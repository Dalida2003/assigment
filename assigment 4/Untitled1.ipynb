{
 "cells": [
  {
   "cell_type": "code",
   "execution_count": 45,
   "id": "dbd8c127-dacf-4cee-be34-c2527399fe2e",
   "metadata": {},
   "outputs": [
    {
     "name": "stdout",
     "output_type": "stream",
     "text": [
      "['Обложка', 'Усл.обозначения', 'Содержание', 'Метод.пояснения', '1.', '2.', '3.', '4.', '5.', '6.', '7.', '8.', '9.', '10.', '11.', '12.', '13.', '14.1', '14.2', '14.3', '14.4', '15.', '16.', '17.', '18.', '19.']\n"
     ]
    }
   ],
   "source": [
    "import pandas as pd\n",
    "\n",
    "# Загрузка всех листов Excel-файла\n",
    "xls = pd.ExcelFile('livestock_kz_2024.xlsx')\n",
    "sheet_names = xls.sheet_names\n",
    "print(sheet_names)\n"
   ]
  },
  {
   "cell_type": "code",
   "execution_count": 71,
   "id": "d994df3f-d28f-4ba6-b2fb-b72b6f5a44a8",
   "metadata": {},
   "outputs": [
    {
     "name": "stdout",
     "output_type": "stream",
     "text": [
      "                                  Unnamed: 0\n",
      "0                                        NaN\n",
      "1                                        NaN\n",
      "2                                        NaN\n",
      "3             Дата опубликования: 04.04.2025\n",
      "4  Дата следующего опубликования: 06.04.2026\n",
      "<class 'pandas.core.frame.DataFrame'>\n",
      "RangeIndex: 16 entries, 0 to 15\n",
      "Data columns (total 1 columns):\n",
      " #   Column      Non-Null Count  Dtype \n",
      "---  ------      --------------  ----- \n",
      " 0   Unnamed: 0  5 non-null      object\n",
      "dtypes: object(1)\n",
      "memory usage: 260.0+ bytes\n",
      "None\n",
      "                            Unnamed: 0\n",
      "count                                5\n",
      "unique                               5\n",
      "top     Дата опубликования: 04.04.2025\n",
      "freq                                 1\n"
     ]
    }
   ],
   "source": [
    "import pandas as pd\n",
    "\n",
    "# Загрузка Excel-файла\n",
    "file_path = 'livestock_kz_2024.xlsx'\n",
    "df = pd.read_excel(file_path)\n",
    "\n",
    "# Первичный осмотр\n",
    "print(df.head())        # Показать первые 5 строк\n",
    "print(df.info())        # Информация о типах данных и пропущенных значениях\n",
    "print(df.describe())    # Статистика по числовым колонкам\n"
   ]
  },
  {
   "cell_type": "code",
   "execution_count": 73,
   "id": "fbe966a3-0f09-4594-94aa-8f41b81d0615",
   "metadata": {},
   "outputs": [
    {
     "name": "stdout",
     "output_type": "stream",
     "text": [
      "Unnamed: 0    11\n",
      "dtype: int64\n"
     ]
    }
   ],
   "source": [
    "print(df.isnull().sum())  # Количество пропущенных значений по столбцам\n"
   ]
  },
  {
   "cell_type": "code",
   "execution_count": null,
   "id": "b1d1d664-904f-41b3-a916-ef2bcadbe0ee",
   "metadata": {},
   "outputs": [],
   "source": []
  }
 ],
 "metadata": {
  "kernelspec": {
   "display_name": "Python 3 (ipykernel)",
   "language": "python",
   "name": "python3"
  },
  "language_info": {
   "codemirror_mode": {
    "name": "ipython",
    "version": 3
   },
   "file_extension": ".py",
   "mimetype": "text/x-python",
   "name": "python",
   "nbconvert_exporter": "python",
   "pygments_lexer": "ipython3",
   "version": "3.12.4"
  }
 },
 "nbformat": 4,
 "nbformat_minor": 5
}
